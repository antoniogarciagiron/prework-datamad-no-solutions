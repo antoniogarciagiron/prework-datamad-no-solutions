{
 "cells": [
  {
   "cell_type": "markdown",
   "metadata": {},
   "source": [
    "<img src=\"https://bit.ly/2VnXWr2\" width=\"100\" align=\"left\"/>"
   ]
  },
  {
   "cell_type": "markdown",
   "metadata": {},
   "source": [
    "# Robin Hood\n",
    "Robin Hood has entered a competition to win the archery contest in Sherwood. With his bow and arrows, he needs to shoot on a target and try to hit as close as possible to the center.\n",
    "\n",
    "![](images/arrows.jpg)\n",
    "\n",
    "## Context\n",
    "In this challenge, the landing position of arrows shot by archers in the competition will be represented using 2-dimensional coordinates. \n",
    "\n",
    "In the 2-dimensional space, a point can be defined by a pair of values that correspond to the horizontal coordinate (x) and the vertical coordinate (y). For example, in our case, an arrow that hits the center of the archery target will land in position (0, 0) on the coordinate axes. \n",
    "\n",
    "The space can be divided into 4 zones (quadrants): Q1, Q2, Q3, Q4. If a point is in Q1, both its x coordinate and y coordinate are positive. Any point with a null x or y coordinate is considered to not belong to any quadrant. \n",
    "\n",
    "If you want to know more about the cartesian coordinate system, you can check this [link](https://en.wikipedia.org/wiki/Cartesian_coordinate_system). \n",
    "\n",
    "## Tools\n",
    "You don't necessarily need to use all the tools. Maybe you opt to use some of them or completely different ones, they are given to help you shape the exercise. Programming exercises can be solved in many different ways.\n",
    "* Data structures: **lists, sets, tuples**\n",
    "* Conditional statements: **if-elif-else**\n",
    "* Loop: **while/for**\n",
    "* Minimum (optional sorting)\n",
    "\n",
    "## Tasks\n",
    "Robin Hood has hit the following points:"
   ]
  },
  {
   "cell_type": "code",
   "execution_count": 2,
   "metadata": {},
   "outputs": [],
   "source": [
    "points = [(4, 5), (-0, 2), (4, 7), (1, -3), (3, -2), (4, 5), (3, 2), (5, 7), (-5, 7), (2, 2), (-4, 5), (0, -2),\n",
    "          (-4, 7), (-1, 3), (-3, 2), (-4, -5), (-3, 2), (5, 7), (5, 7), (2, 2), (9, 9), (-8, -9)]"
   ]
  },
  {
   "cell_type": "markdown",
   "metadata": {},
   "source": [
    "#### 1. Robin Hood is famous for hitting an arrow with another arrow. Find the coordinates of the points where an arrow hits another arrow."
   ]
  },
  {
   "cell_type": "code",
   "execution_count": 3,
   "metadata": {},
   "outputs": [
    {
     "name": "stdout",
     "output_type": "stream",
     "text": [
      "The points with two or more arrows are: [(5, 7), (4, 5), (2, 2), (-3, 2)]\n"
     ]
    }
   ],
   "source": [
    "two_arrows=[]\n",
    "numberarrows=len(points)\n",
    "individual_points=set(points)\n",
    "for element in individual_points:\n",
    "    counter=0\n",
    "    for i in range(numberarrows):\n",
    "        if (element==points[i]):\n",
    "            counter+=1\n",
    "    if counter>1:\n",
    "        two_arrows.append(element)\n",
    "print('The points with two or more arrows are:',two_arrows)\n",
    "            "
   ]
  },
  {
   "cell_type": "markdown",
   "metadata": {},
   "source": [
    "#### 2. Calculate how many arrows have fallen in each quadrant. \n",
    "**Note**: the arrows that fall in the axis (x=0 or y=0) don't belong to any quadrant."
   ]
  },
  {
   "cell_type": "code",
   "execution_count": 4,
   "metadata": {},
   "outputs": [
    {
     "name": "stdout",
     "output_type": "stream",
     "text": [
      "Quadrant 1 has 10 arrows.\n",
      "Quadrant 2 has 6 arrows.\n",
      "Quadrant 3 has 2 arrows.\n",
      "Quadrant 4 has 2 arrows.\n"
     ]
    }
   ],
   "source": [
    "Q1=0\n",
    "Q2=0\n",
    "Q3=0\n",
    "Q4=0\n",
    "for element in points:\n",
    "    if ((element[0]>0) and (element[1]>0)):\n",
    "        Q1+=1\n",
    "    elif ((element[0]<0) and (element[1]>0)):\n",
    "        Q2+=1\n",
    "    elif ((element[0]<0) and (element[1]<0)):\n",
    "        Q3+=1\n",
    "    elif ((element[0]>0) and (element[1]<0)):\n",
    "        Q4+=1\n",
    "print('Quadrant 1 has', Q1, 'arrows.')\n",
    "print('Quadrant 2 has', Q2, 'arrows.')\n",
    "print('Quadrant 3 has', Q3, 'arrows.')\n",
    "print('Quadrant 4 has', Q4, 'arrows.')"
   ]
  },
  {
   "cell_type": "markdown",
   "metadata": {},
   "source": [
    "#### 3. Find the point closest to the center. Calculate its distance to the center. \n",
    "Take into account that there might be more than one point at the minimum distance to the center.\n",
    "\n",
    "**Hint**: Use the Euclidean distance. You can find more information about it [here](https://en.wikipedia.org/wiki/Euclidean_distance).  \n",
    "**Hint**: Defining a function that calculates the distance to the center can help."
   ]
  },
  {
   "cell_type": "code",
   "execution_count": 5,
   "metadata": {},
   "outputs": [
    {
     "name": "stdout",
     "output_type": "stream",
     "text": [
      "The winner arrows are in points: [(0, 2), (0, -2)] and their distance to the center is 2.0\n"
     ]
    }
   ],
   "source": [
    "distances=[]\n",
    "winner_arrows=[]\n",
    "d=0\n",
    "for element in points:\n",
    "    d=(((element[0])**2)+((element[1])**2))**0.5\n",
    "    distances.append(d)\n",
    "winner_distance=min(distances)\n",
    "i=0\n",
    "for element in distances:\n",
    "    if (element==winner_distance):\n",
    "        winner_arrows.append(points[i])\n",
    "    i+=1\n",
    "print('The winner arrows are in points:', winner_arrows,'and their distance to the center is', winner_distance)\n",
    "        \n",
    "\n"
   ]
  },
  {
   "cell_type": "markdown",
   "metadata": {},
   "source": [
    "#### 4. If the archery target has a radius of 9, calculate the number of arrows that won't hit the target. \n",
    "**Hint**: Use the function created in step 3. "
   ]
  },
  {
   "cell_type": "code",
   "execution_count": 6,
   "metadata": {},
   "outputs": [
    {
     "name": "stdout",
     "output_type": "stream",
     "text": [
      "Number of arrows failed: 2\n"
     ]
    }
   ],
   "source": [
    "failed=0\n",
    "for element in distances:\n",
    "    if (element>9):\n",
    "        failed+=1\n",
    "print('Number of arrows failed:',failed)"
   ]
  },
  {
   "cell_type": "code",
   "execution_count": null,
   "metadata": {},
   "outputs": [],
   "source": []
  }
 ],
 "metadata": {
  "kernelspec": {
   "display_name": "Python 3",
   "language": "python",
   "name": "python3"
  },
  "language_info": {
   "codemirror_mode": {
    "name": "ipython",
    "version": 3
   },
   "file_extension": ".py",
   "mimetype": "text/x-python",
   "name": "python",
   "nbconvert_exporter": "python",
   "pygments_lexer": "ipython3",
   "version": "3.8.5"
  }
 },
 "nbformat": 4,
 "nbformat_minor": 2
}
